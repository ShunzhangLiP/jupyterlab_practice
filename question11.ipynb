{
 "cells": [
  {
   "cell_type": "markdown",
   "id": "55d76a62-4406-47c8-9513-a1baa20a71a6",
   "metadata": {},
   "source": [
    "# Shunzhang Li\n",
    "Notebook for assignment 7"
   ]
  },
  {
   "cell_type": "code",
   "execution_count": 2,
   "id": "5375f4e0-e3f5-416b-85bb-9893ac2525e7",
   "metadata": {},
   "outputs": [],
   "source": [
    "def compute_mean(numbers):\n",
    "    l = len(numbers)\n",
    "    if l > 0:\n",
    "        mean = float(sum(numbers))/float(l)\n",
    "        return mean\n",
    "    return \"number list is not properly defined\""
   ]
  },
  {
   "cell_type": "markdown",
   "id": "8545abaa-3391-4105-9b4c-0abaa6729d22",
   "metadata": {},
   "source": [
    "The function compute_mean takes a list of numbers and return their mean in float.\n",
    "\n",
    "$$\n",
    "\\bar{x} = \\frac{x_1 + x_2 + \\ldots + x_n}{n} = \\frac{1}{n} (\\sum^{n}_{i=1} x_i)\n",
    "$$\n",
    "\n",
    "The function will return error message if empty list"
   ]
  }
 ],
 "metadata": {
  "kernelspec": {
   "display_name": "Python [conda env:jupyterlab-practice-env]",
   "language": "python",
   "name": "conda-env-jupyterlab-practice-env-py"
  },
  "language_info": {
   "codemirror_mode": {
    "name": "ipython",
    "version": 3
   },
   "file_extension": ".py",
   "mimetype": "text/x-python",
   "name": "python",
   "nbconvert_exporter": "python",
   "pygments_lexer": "ipython3",
   "version": "3.13.1"
  }
 },
 "nbformat": 4,
 "nbformat_minor": 5
}
